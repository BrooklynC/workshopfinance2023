{
  "nbformat": 4,
  "nbformat_minor": 0,
  "metadata": {
    "colab": {
      "provenance": []
    },
    "kernelspec": {
      "name": "python3",
      "display_name": "Python 3"
    },
    "language_info": {
      "name": "python"
    }
  },
  "cells": [
    {
      "cell_type": "code",
      "source": [
        "# basket of given stocks\n",
        "!pip install requests\n",
        "import pandas as pd\n",
        "import requests\n",
        "import numpy as np\n",
        "from termcolor import colored as cl"
      ],
      "metadata": {
        "id": "Py5dpJIvyjJo",
        "colab": {
          "base_uri": "https://localhost:8080/"
        },
        "outputId": "2a47b606-4431-4fb4-c6d9-cb7ea90a5b88"
      },
      "execution_count": 134,
      "outputs": [
        {
          "output_type": "stream",
          "name": "stdout",
          "text": [
            "Looking in indexes: https://pypi.org/simple, https://us-python.pkg.dev/colab-wheels/public/simple/\n",
            "Requirement already satisfied: requests in /usr/local/lib/python3.7/dist-packages (2.23.0)\n",
            "Requirement already satisfied: idna<3,>=2.5 in /usr/local/lib/python3.7/dist-packages (from requests) (2.10)\n",
            "Requirement already satisfied: chardet<4,>=3.0.2 in /usr/local/lib/python3.7/dist-packages (from requests) (3.0.4)\n",
            "Requirement already satisfied: urllib3!=1.25.0,!=1.25.1,<1.26,>=1.21.1 in /usr/local/lib/python3.7/dist-packages (from requests) (1.24.3)\n",
            "Requirement already satisfied: certifi>=2017.4.17 in /usr/local/lib/python3.7/dist-packages (from requests) (2022.9.24)\n"
          ]
        }
      ]
    },
    {
      "cell_type": "code",
      "source": [
        "basket_of_Comps = ['MSFT', 'AMZN', 'GOOGL', 'FB', 'BABA', 'NVDA', 'PYPL', 'INTC', 'NFLX']\n",
        "ticker = basket_of_Comps\n",
        "tgt_ticker = 'AAPL' # Add target company here\n",
        "ticker.append(tgt_ticker)\n",
        "def get_metrics(stock):\n",
        "    iex_api_key = 'sk_29735f4ddf4a47efb27623b229dda54a'\n",
        "    fundamentals = []\n",
        "    \n",
        "    p = \"https://cloud.iexapis.com/stable/stock/\"+stock+\"/price?token=\"+iex_api_key\n",
        "    m = \"https://cloud.iexapis.com/stable/stock/\"+stock+\"/stats?token=\"+iex_api_key\n",
        "    pe = \"https://cloud.iexapis.com/stable/stock/\"+stock+\"/stats?token=\"+iex_api_key\n",
        "    ebitda = \"https://cloud.iexapis.com/stable/time-series/fundamentals/\"+stock+\"/quarterly?token=\"+iex_api_key\n",
        "    ebit = \"https://cloud.iexapis.com/stable/time-series/fundamentals/\"+stock+\"/quarterly?token=\"+iex_api_key\n",
        "    rev = \"https://cloud.iexapis.com/stable/time-series/fundamentals/\"+stock+\"/quarterly?token=\"+iex_api_key\n",
        "    ev = \"https://cloud.iexapis.com/stable/stock/\"+stock+\"/advanced-stats?token=\"+iex_api_key\n",
        "\n",
        "    raw_price = requests.get(p)\n",
        "    price = raw_price.json()    \n",
        "    fundamentals.append(price) \n",
        "\n",
        "    raw_marketcap = requests.get(m)\n",
        "    marketcap = raw_marketcap.json()['marketcap']\n",
        "    fundamentals.append(marketcap)    \n",
        " \n",
        "    raw_peRatio = requests.get(pe)\n",
        "    peRatio = raw_peRatio.json()['peRatio']\n",
        "    fundamentals.append(peRatio)\n",
        "    \n",
        "    raw_ebitda = requests.get(ebitda)\n",
        "    ebitda = raw_ebitda.json()[0]['ebitdaReported']\n",
        "    fundamentals.append(ebitda)\n",
        "        \n",
        "    raw_ebit = requests.get(ebit)\n",
        "    ebit = raw_ebit.json()[0]['ebitReported']\n",
        "    fundamentals.append(ebit)\n",
        "    \n",
        "    raw_revenue = requests.get(rev)\n",
        "    revenue = raw_revenue.json()[0]['revenue']\n",
        "    fundamentals.append(revenue)\n",
        "    \n",
        "    raw_entvalue = requests.get(ev)\n",
        "    entvalue = raw_entvalue.json()['enterpriseValue']\n",
        "    fundamentals.append(entvalue)\n",
        "    \n",
        "      \n",
        "    return fundamentals\n",
        "\n",
        "raw_data = []\n",
        "\n",
        "for company in ticker:\n",
        "  raw_data.append(get_metrics(company))\n"
      ],
      "metadata": {
        "id": "FyVkINT9qfqT"
      },
      "execution_count": 87,
      "outputs": []
    },
    {
      "cell_type": "code",
      "source": [
        "fundamentals = pd.DataFrame(raw_data, columns = ['price', 'marketcap', 'pe', 'ebitda', 'ebit', 'revenue', 'ev'], index = ticker)\n"
      ],
      "metadata": {
        "id": "m3ak_lJxbf1f"
      },
      "execution_count": 88,
      "outputs": []
    },
    {
      "cell_type": "code",
      "source": [
        "valuation_multiples = fundamentals[['pe',\t'ebitda',\t'ebit',\t'revenue']].copy()\n",
        "valuation_multiples_copy = valuation_multiples\n",
        "valuation_multiples = valuation_multiples.rename(columns = {'ebitda':'ev/ebitda', 'ebit':'ev/ebit', 'revenue':'ev/revenue'})\n",
        "valuation_multiples ['ev/ebitda'] = fundamentals['ev'] / valuation_multiples_copy['ebitda']\n",
        "valuation_multiples ['ev/ebit'] = fundamentals['ev'] / valuation_multiples_copy['ebit']\n",
        "valuation_multiples ['ev/revenue']  = fundamentals['ev'] / valuation_multiples_copy['revenue']\n"
      ],
      "metadata": {
        "id": "BFa2OU-KrwqF"
      },
      "execution_count": 90,
      "outputs": []
    },
    {
      "cell_type": "code",
      "source": [
        "multiples = pd.DataFrame(columns = ['pe', 'ev/ebitda', 'ev/ebit', 'ev/revenue'], index = ['average', 'avg/tgt'] )\n",
        "multiples.iloc[:, 0] = range(0,2)\n",
        "comps_df = valuation_multiples[:len(ticker)-1]\n",
        "tgt_df = valuation_multiples.iloc[-1]\n",
        "multiples.iloc[0] = comps_df.sum() / (len(ticker))\n",
        "multiples.iloc[1] = tgt_df / multiples.iloc[0]\n"
      ],
      "metadata": {
        "id": "5zLwO1Gavfey"
      },
      "execution_count": null,
      "outputs": []
    },
    {
      "cell_type": "code",
      "source": [
        "# CALCULATING THE INTRINSIC VALUE\n",
        "iex_api_key = 'sk_29735f4ddf4a47efb27623b229dda54a'\n",
        "p = \"https://cloud.iexapis.com/stable/stock/\"+tgt_ticker+\"/price?token=\"+iex_api_key\n",
        "raw_price = requests.get(p)\n",
        "price = raw_price.json()  \n",
        "price_diff = price / multiples.iloc[1]\n",
        "intrinsic_price = round((sum(price_diff) / 4), 2)"
      ],
      "metadata": {
        "colab": {
          "base_uri": "https://localhost:8080/"
        },
        "id": "IiGz77XP-U2N",
        "outputId": "337873e3-a333-46dd-9389-03ee92b48b35"
      },
      "execution_count": 141,
      "outputs": [
        {
          "output_type": "stream",
          "name": "stdout",
          "text": [
            "The intrinsic value of Apple : 184.9\n"
          ]
        }
      ]
    }
  ]
}