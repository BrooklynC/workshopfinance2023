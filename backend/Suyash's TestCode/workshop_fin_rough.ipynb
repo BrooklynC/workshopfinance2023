{
  "nbformat": 4,
  "nbformat_minor": 0,
  "metadata": {
    "colab": {
      "provenance": []
    },
    "kernelspec": {
      "name": "python3",
      "display_name": "Python 3"
    },
    "language_info": {
      "name": "python"
    }
  },
  "cells": [
    {
      "cell_type": "code",
      "execution_count": null,
      "metadata": {
        "id": "6TfaJF5KC6Q_",
        "outputId": "ccf9c538-c51a-48af-d4eb-5eba971d984f",
        "colab": {
          "base_uri": "https://localhost:8080/"
        }
      },
      "outputs": [
        {
          "output_type": "stream",
          "name": "stdout",
          "text": [
            "Looking in indexes: https://pypi.org/simple, https://us-python.pkg.dev/colab-wheels/public/simple/\n",
            "Collecting pyEX\n",
            "  Downloading pyEX-0.5.0-py2.py3-none-any.whl (163 kB)\n",
            "\u001b[2K     \u001b[90m━━━━━━━━━━━━━━━━━━━━━━━━━━━━━━━━━━━━━━━\u001b[0m \u001b[32m163.4/163.4 KB\u001b[0m \u001b[31m5.4 MB/s\u001b[0m eta \u001b[36m0:00:00\u001b[0m\n",
            "\u001b[?25hRequirement already satisfied: pytz>=2019.1 in /usr/local/lib/python3.9/dist-packages (from pyEX) (2022.7.1)\n",
            "Requirement already satisfied: pandas>=0.22 in /usr/local/lib/python3.9/dist-packages (from pyEX) (1.4.4)\n",
            "Requirement already satisfied: requests>=2.21.0 in /usr/local/lib/python3.9/dist-packages (from pyEX) (2.25.1)\n",
            "Requirement already satisfied: Pillow>=5.3.0 in /usr/local/lib/python3.9/dist-packages (from pyEX) (8.4.0)\n",
            "Collecting socketIO-client-nexus>=0.7.6\n",
            "  Downloading socketIO_client_nexus-0.7.6-py2.py3-none-any.whl (22 kB)\n",
            "Collecting sseclient>=0.0.22\n",
            "  Downloading sseclient-0.0.27.tar.gz (7.5 kB)\n",
            "  Preparing metadata (setup.py) ... \u001b[?25l\u001b[?25hdone\n",
            "Requirement already satisfied: ipython>=7.2.0 in /usr/local/lib/python3.9/dist-packages (from pyEX) (7.9.0)\n",
            "Requirement already satisfied: six in /usr/local/lib/python3.9/dist-packages (from pyEX) (1.15.0)\n",
            "Collecting deprecation>=2.0.6\n",
            "  Downloading deprecation-2.1.0-py2.py3-none-any.whl (11 kB)\n",
            "Collecting temporal-cache>=0.1.1\n",
            "  Downloading temporal_cache-0.1.4-py2.py3-none-any.whl (17 kB)\n",
            "Requirement already satisfied: packaging in /usr/local/lib/python3.9/dist-packages (from deprecation>=2.0.6->pyEX) (23.0)\n",
            "Requirement already satisfied: traitlets>=4.2 in /usr/local/lib/python3.9/dist-packages (from ipython>=7.2.0->pyEX) (5.7.1)\n",
            "Requirement already satisfied: backcall in /usr/local/lib/python3.9/dist-packages (from ipython>=7.2.0->pyEX) (0.2.0)\n",
            "Requirement already satisfied: pickleshare in /usr/local/lib/python3.9/dist-packages (from ipython>=7.2.0->pyEX) (0.7.5)\n",
            "Requirement already satisfied: decorator in /usr/local/lib/python3.9/dist-packages (from ipython>=7.2.0->pyEX) (4.4.2)\n",
            "Requirement already satisfied: pexpect in /usr/local/lib/python3.9/dist-packages (from ipython>=7.2.0->pyEX) (4.8.0)\n",
            "Requirement already satisfied: pygments in /usr/local/lib/python3.9/dist-packages (from ipython>=7.2.0->pyEX) (2.6.1)\n",
            "Requirement already satisfied: prompt-toolkit<2.1.0,>=2.0.0 in /usr/local/lib/python3.9/dist-packages (from ipython>=7.2.0->pyEX) (2.0.10)\n",
            "Collecting jedi>=0.10\n",
            "  Downloading jedi-0.18.2-py2.py3-none-any.whl (1.6 MB)\n",
            "\u001b[2K     \u001b[90m━━━━━━━━━━━━━━━━━━━━━━━━━━━━━━━━━━━━━━━━\u001b[0m \u001b[32m1.6/1.6 MB\u001b[0m \u001b[31m9.3 MB/s\u001b[0m eta \u001b[36m0:00:00\u001b[0m\n",
            "\u001b[?25hRequirement already satisfied: setuptools>=18.5 in /usr/local/lib/python3.9/dist-packages (from ipython>=7.2.0->pyEX) (63.4.3)\n",
            "Requirement already satisfied: python-dateutil>=2.8.1 in /usr/local/lib/python3.9/dist-packages (from pandas>=0.22->pyEX) (2.8.2)\n",
            "Requirement already satisfied: numpy>=1.18.5 in /usr/local/lib/python3.9/dist-packages (from pandas>=0.22->pyEX) (1.22.4)\n",
            "Requirement already satisfied: urllib3<1.27,>=1.21.1 in /usr/local/lib/python3.9/dist-packages (from requests>=2.21.0->pyEX) (1.26.15)\n",
            "Requirement already satisfied: certifi>=2017.4.17 in /usr/local/lib/python3.9/dist-packages (from requests>=2.21.0->pyEX) (2022.12.7)\n",
            "Requirement already satisfied: idna<3,>=2.5 in /usr/local/lib/python3.9/dist-packages (from requests>=2.21.0->pyEX) (2.10)\n",
            "Requirement already satisfied: chardet<5,>=3.0.2 in /usr/local/lib/python3.9/dist-packages (from requests>=2.21.0->pyEX) (4.0.0)\n",
            "Collecting websocket-client\n",
            "  Downloading websocket_client-1.5.1-py3-none-any.whl (55 kB)\n",
            "\u001b[2K     \u001b[90m━━━━━━━━━━━━━━━━━━━━━━━━━━━━━━━━━━━━━━━━\u001b[0m \u001b[32m55.9/55.9 KB\u001b[0m \u001b[31m3.3 MB/s\u001b[0m eta \u001b[36m0:00:00\u001b[0m\n",
            "\u001b[?25hCollecting frozendict>=1.2\n",
            "  Downloading frozendict-2.3.5-cp39-cp39-manylinux_2_17_x86_64.manylinux2014_x86_64.whl (112 kB)\n",
            "\u001b[2K     \u001b[90m━━━━━━━━━━━━━━━━━━━━━━━━━━━━━━━━━━━━━━━\u001b[0m \u001b[32m112.8/112.8 KB\u001b[0m \u001b[31m4.5 MB/s\u001b[0m eta \u001b[36m0:00:00\u001b[0m\n",
            "\u001b[?25hRequirement already satisfied: tzlocal>=2.0.0 in /usr/local/lib/python3.9/dist-packages (from temporal-cache>=0.1.1->pyEX) (4.2)\n",
            "Requirement already satisfied: parso<0.9.0,>=0.8.0 in /usr/local/lib/python3.9/dist-packages (from jedi>=0.10->ipython>=7.2.0->pyEX) (0.8.3)\n",
            "Requirement already satisfied: wcwidth in /usr/local/lib/python3.9/dist-packages (from prompt-toolkit<2.1.0,>=2.0.0->ipython>=7.2.0->pyEX) (0.2.6)\n",
            "Requirement already satisfied: pytz-deprecation-shim in /usr/local/lib/python3.9/dist-packages (from tzlocal>=2.0.0->temporal-cache>=0.1.1->pyEX) (0.1.0.post0)\n",
            "Requirement already satisfied: ptyprocess>=0.5 in /usr/local/lib/python3.9/dist-packages (from pexpect->ipython>=7.2.0->pyEX) (0.7.0)\n",
            "Requirement already satisfied: tzdata in /usr/local/lib/python3.9/dist-packages (from pytz-deprecation-shim->tzlocal>=2.0.0->temporal-cache>=0.1.1->pyEX) (2022.7)\n",
            "Building wheels for collected packages: sseclient\n",
            "  Building wheel for sseclient (setup.py) ... \u001b[?25l\u001b[?25hdone\n",
            "  Created wheel for sseclient: filename=sseclient-0.0.27-py3-none-any.whl size=5585 sha256=26f3eba166ca9b452cab2a23239de0a99dacff87eda60becc9cfce97fc42e2c7\n",
            "  Stored in directory: /root/.cache/pip/wheels/73/21/3f/9d20c05c1c9312ab61bc7bf63bb2c189a71e800cb028fa8d2a\n",
            "Successfully built sseclient\n",
            "Installing collected packages: websocket-client, jedi, frozendict, deprecation, sseclient, socketIO-client-nexus, temporal-cache, pyEX\n",
            "Successfully installed deprecation-2.1.0 frozendict-2.3.5 jedi-0.18.2 pyEX-0.5.0 socketIO-client-nexus-0.7.6 sseclient-0.0.27 temporal-cache-0.1.4 websocket-client-1.5.1\n",
            "close\n",
            "high\n",
            "low\n",
            "open\n",
            "priceDate\n",
            "symbol\n",
            "volume\n",
            "id\n",
            "key\n",
            "subkey\n",
            "updated\n",
            "changeOverTime\n",
            "marketChangeOverTime\n",
            "uOpen\n",
            "uClose\n",
            "uHigh\n",
            "uLow\n",
            "uVolume\n",
            "fOpen\n",
            "fClose\n",
            "fHigh\n",
            "fLow\n",
            "fVolume\n",
            "label\n",
            "change\n",
            "changePercent\n"
          ]
        }
      ],
      "source": [
        "!pip install pyEX\n",
        "import pyEX as p\n",
        "c = p.Client(api_token='pk_b684e0058b244ac7bd8b6d92284af164', version='v1', api_limit=5)\n",
        "df = c.chartDF('AAPL').head()\n",
        "for column_headers in df.columns: \n",
        "    print(column_headers)"
      ]
    },
    {
      "cell_type": "code",
      "source": [
        "!pip install pyEX\n",
        "import pyEX as p\n",
        "c = p.Client(api_token='pk_b684e0058b244ac7bd8b6d92284af164', version='v1', api_limit=5)"
      ],
      "metadata": {
        "colab": {
          "base_uri": "https://localhost:8080/"
        },
        "id": "-0EeqHYyW3B6",
        "outputId": "55a6c773-80b5-4d51-f759-f97c097f5267"
      },
      "execution_count": null,
      "outputs": [
        {
          "output_type": "stream",
          "name": "stdout",
          "text": [
            "Looking in indexes: https://pypi.org/simple, https://us-python.pkg.dev/colab-wheels/public/simple/\n",
            "Collecting pyEX\n",
            "  Downloading pyEX-0.5.0-py2.py3-none-any.whl (163 kB)\n",
            "\u001b[K     |████████████████████████████████| 163 kB 6.7 MB/s \n",
            "\u001b[?25hRequirement already satisfied: requests>=2.21.0 in /usr/local/lib/python3.7/dist-packages (from pyEX) (2.23.0)\n",
            "Collecting temporal-cache>=0.1.1\n",
            "  Downloading temporal_cache-0.1.4-py2.py3-none-any.whl (17 kB)\n",
            "Requirement already satisfied: six in /usr/local/lib/python3.7/dist-packages (from pyEX) (1.15.0)\n",
            "Collecting socketIO-client-nexus>=0.7.6\n",
            "  Downloading socketIO_client_nexus-0.7.6-py2.py3-none-any.whl (22 kB)\n",
            "Collecting deprecation>=2.0.6\n",
            "  Downloading deprecation-2.1.0-py2.py3-none-any.whl (11 kB)\n",
            "Requirement already satisfied: pytz>=2019.1 in /usr/local/lib/python3.7/dist-packages (from pyEX) (2022.6)\n",
            "Requirement already satisfied: Pillow>=5.3.0 in /usr/local/lib/python3.7/dist-packages (from pyEX) (7.1.2)\n",
            "Collecting sseclient>=0.0.22\n",
            "  Downloading sseclient-0.0.27.tar.gz (7.5 kB)\n",
            "Requirement already satisfied: pandas>=0.22 in /usr/local/lib/python3.7/dist-packages (from pyEX) (1.3.5)\n",
            "Requirement already satisfied: ipython>=7.2.0 in /usr/local/lib/python3.7/dist-packages (from pyEX) (7.9.0)\n",
            "Requirement already satisfied: packaging in /usr/local/lib/python3.7/dist-packages (from deprecation>=2.0.6->pyEX) (21.3)\n",
            "Requirement already satisfied: pygments in /usr/local/lib/python3.7/dist-packages (from ipython>=7.2.0->pyEX) (2.6.1)\n",
            "Requirement already satisfied: setuptools>=18.5 in /usr/local/lib/python3.7/dist-packages (from ipython>=7.2.0->pyEX) (57.4.0)\n",
            "Requirement already satisfied: backcall in /usr/local/lib/python3.7/dist-packages (from ipython>=7.2.0->pyEX) (0.2.0)\n",
            "Requirement already satisfied: decorator in /usr/local/lib/python3.7/dist-packages (from ipython>=7.2.0->pyEX) (4.4.2)\n",
            "Requirement already satisfied: prompt-toolkit<2.1.0,>=2.0.0 in /usr/local/lib/python3.7/dist-packages (from ipython>=7.2.0->pyEX) (2.0.10)\n",
            "Requirement already satisfied: pexpect in /usr/local/lib/python3.7/dist-packages (from ipython>=7.2.0->pyEX) (4.8.0)\n",
            "Requirement already satisfied: pickleshare in /usr/local/lib/python3.7/dist-packages (from ipython>=7.2.0->pyEX) (0.7.5)\n",
            "Collecting jedi>=0.10\n",
            "  Downloading jedi-0.18.2-py2.py3-none-any.whl (1.6 MB)\n",
            "\u001b[K     |████████████████████████████████| 1.6 MB 7.7 MB/s \n",
            "\u001b[?25hRequirement already satisfied: traitlets>=4.2 in /usr/local/lib/python3.7/dist-packages (from ipython>=7.2.0->pyEX) (5.1.1)\n",
            "Requirement already satisfied: parso<0.9.0,>=0.8.0 in /usr/local/lib/python3.7/dist-packages (from jedi>=0.10->ipython>=7.2.0->pyEX) (0.8.3)\n",
            "Requirement already satisfied: numpy>=1.17.3 in /usr/local/lib/python3.7/dist-packages (from pandas>=0.22->pyEX) (1.21.6)\n",
            "Requirement already satisfied: python-dateutil>=2.7.3 in /usr/local/lib/python3.7/dist-packages (from pandas>=0.22->pyEX) (2.8.2)\n",
            "Requirement already satisfied: wcwidth in /usr/local/lib/python3.7/dist-packages (from prompt-toolkit<2.1.0,>=2.0.0->ipython>=7.2.0->pyEX) (0.2.5)\n",
            "Requirement already satisfied: urllib3!=1.25.0,!=1.25.1,<1.26,>=1.21.1 in /usr/local/lib/python3.7/dist-packages (from requests>=2.21.0->pyEX) (1.24.3)\n",
            "Requirement already satisfied: certifi>=2017.4.17 in /usr/local/lib/python3.7/dist-packages (from requests>=2.21.0->pyEX) (2022.9.24)\n",
            "Requirement already satisfied: idna<3,>=2.5 in /usr/local/lib/python3.7/dist-packages (from requests>=2.21.0->pyEX) (2.10)\n",
            "Requirement already satisfied: chardet<4,>=3.0.2 in /usr/local/lib/python3.7/dist-packages (from requests>=2.21.0->pyEX) (3.0.4)\n",
            "Collecting websocket-client\n",
            "  Downloading websocket_client-1.4.2-py3-none-any.whl (55 kB)\n",
            "\u001b[K     |████████████████████████████████| 55 kB 869 kB/s \n",
            "\u001b[?25hCollecting tzlocal>=2.0.0\n",
            "  Downloading tzlocal-4.2-py3-none-any.whl (19 kB)\n",
            "Collecting frozendict>=1.2\n",
            "  Downloading frozendict-2.3.4-cp37-cp37m-manylinux_2_17_x86_64.manylinux2014_x86_64.whl (99 kB)\n",
            "\u001b[K     |████████████████████████████████| 99 kB 1.4 MB/s \n",
            "\u001b[?25hCollecting pytz-deprecation-shim\n",
            "  Downloading pytz_deprecation_shim-0.1.0.post0-py2.py3-none-any.whl (15 kB)\n",
            "Collecting backports.zoneinfo\n",
            "  Downloading backports.zoneinfo-0.2.1-cp37-cp37m-manylinux1_x86_64.whl (70 kB)\n",
            "\u001b[K     |████████████████████████████████| 70 kB 3.5 MB/s \n",
            "\u001b[?25hRequirement already satisfied: pyparsing!=3.0.5,>=2.0.2 in /usr/local/lib/python3.7/dist-packages (from packaging->deprecation>=2.0.6->pyEX) (3.0.9)\n",
            "Requirement already satisfied: ptyprocess>=0.5 in /usr/local/lib/python3.7/dist-packages (from pexpect->ipython>=7.2.0->pyEX) (0.7.0)\n",
            "Collecting tzdata\n",
            "  Downloading tzdata-2022.6-py2.py3-none-any.whl (338 kB)\n",
            "\u001b[K     |████████████████████████████████| 338 kB 37.5 MB/s \n",
            "\u001b[?25hBuilding wheels for collected packages: sseclient\n",
            "  Building wheel for sseclient (setup.py) ... \u001b[?25l\u001b[?25hdone\n",
            "  Created wheel for sseclient: filename=sseclient-0.0.27-py3-none-any.whl size=5585 sha256=73eeecc421eed50e9cfcf1d4f447c67f24b303e943494f449ab78a1a74d47456\n",
            "  Stored in directory: /root/.cache/pip/wheels/07/67/7e/96edf627ac746de1a5c5cbb8d59ed960f033b8352dc12c545d\n",
            "Successfully built sseclient\n",
            "Installing collected packages: tzdata, backports.zoneinfo, pytz-deprecation-shim, websocket-client, tzlocal, jedi, frozendict, temporal-cache, sseclient, socketIO-client-nexus, deprecation, pyEX\n",
            "  Attempting uninstall: tzlocal\n",
            "    Found existing installation: tzlocal 1.5.1\n",
            "    Uninstalling tzlocal-1.5.1:\n",
            "      Successfully uninstalled tzlocal-1.5.1\n",
            "Successfully installed backports.zoneinfo-0.2.1 deprecation-2.1.0 frozendict-2.3.4 jedi-0.18.2 pyEX-0.5.0 pytz-deprecation-shim-0.1.0.post0 socketIO-client-nexus-0.7.6 sseclient-0.0.27 temporal-cache-0.1.4 tzdata-2022.6 tzlocal-4.2 websocket-client-1.4.2\n"
          ]
        }
      ]
    },
    {
      "cell_type": "code",
      "source": [
        "#GET /data/:workspace/:id/:key?/:subkey?\n",
        "iex_api_key = 'sk_29735f4ddf4a47efb27623b229dda54a'\n",
        "ebitda = \"https://cloud.iexapis.com/stable/time-series/fundamentals/\"+stock+\"/quarterly?token=\"+iex_api_key"
      ],
      "metadata": {
        "colab": {
          "base_uri": "https://localhost:8080/",
          "height": 165
        },
        "id": "akYm8nS9Y6uF",
        "outputId": "50113cc0-8c44-493e-f91b-54b6517608f0"
      },
      "execution_count": null,
      "outputs": [
        {
          "output_type": "error",
          "ename": "AttributeError",
          "evalue": "ignored",
          "traceback": [
            "\u001b[0;31m---------------------------------------------------------------------------\u001b[0m",
            "\u001b[0;31mAttributeError\u001b[0m                            Traceback (most recent call last)",
            "\u001b[0;32m<ipython-input-3-d5b5e81d7550>\u001b[0m in \u001b[0;36m<module>\u001b[0;34m\u001b[0m\n\u001b[0;32m----> 1\u001b[0;31m \u001b[0mc\u001b[0m\u001b[0;34m.\u001b[0m\u001b[0mqueryData\u001b[0m\u001b[0;34m\u001b[0m\u001b[0;34m\u001b[0m\u001b[0m\n\u001b[0m",
            "\u001b[0;31mAttributeError\u001b[0m: 'Client' object has no attribute 'queryData'"
          ]
        }
      ]
    },
    {
      "cell_type": "code",
      "source": [
        "# Dummy values| Should be taken from front end. \n",
        "import hashlib\n",
        "FirstName1 = \"Sanjay\"\n",
        "LastName1 = \"Bhatia\"\n",
        "password = \"12gshbxs\"\n",
        "Email1 = \"Sanjaybhatia@gmail.com\"\n"
      ],
      "metadata": {
        "id": "d14cn0qyd7aM"
      },
      "execution_count": null,
      "outputs": []
    },
    {
      "cell_type": "code",
      "source": [
        "import requests\n",
        "def Add_USERDATA(FirstName,LastName,Email,Password):\n",
        "  email_lower = Email.lower()\n",
        "  EmailHash = hashlib.sha256(email_lower.encode('utf-8')).hexdigest()\n",
        "  url_to_check = \"https://cloud.iexapis.com/v1/data/WORKSHOPFINANCE/USERDATA/\"+EmailHash+\"?&token=sk_29735f4ddf4a47efb27623b229dda54a\"\n",
        "  exists = len(requests.get(url_to_check).json())\n",
        "  if ( exists != 0 ):\n",
        "    return \"Email Exists\"\n",
        "  \n",
        "  url_to_add = \"https://workshopfinance.iex.cloud/v1/data/workshopfinance/USERDATA?&token=sk_29735f4ddf4a47efb27623b229dda54a\"\n",
        "  PasswordHash = hashlib.sha256(password.encode('utf-8')).hexdigest()\n",
        "  \n",
        "  r = requests.post(url_to_add, json=[\n",
        "    {\n",
        "      \"FirstName\": FirstName,\n",
        "      \"LastName\": LastName,\n",
        "      \"UserID\": EmailHash,\n",
        "      \"Email\": Email,\n",
        "      \"Password\": PasswordHash\n",
        "    }\n",
        "  ])\n",
        "  \n",
        "  return r\n",
        "\n"
      ],
      "metadata": {
        "id": "nTv7SVWYd8lO"
      },
      "execution_count": null,
      "outputs": []
    },
    {
      "cell_type": "code",
      "source": [
        "\n",
        "Add_USERDATA(FirstName1,LastName1,Email1,password)"
      ],
      "metadata": {
        "colab": {
          "base_uri": "https://localhost:8080/"
        },
        "id": "612wnZGwfNDi",
        "outputId": "bfa23d3b-03cc-426d-8ff1-8b81d8f7cf1f"
      },
      "execution_count": null,
      "outputs": [
        {
          "output_type": "execute_result",
          "data": {
            "text/plain": [
              "<Response [200]>"
            ]
          },
          "metadata": {},
          "execution_count": 54
        }
      ]
    },
    {
      "cell_type": "code",
      "source": [
        "import requests\n",
        "def SignIn(Email,Password):\n",
        "  email_lower = Email.lower()\n",
        "  EmailHash = hashlib.sha256(email_lower.encode('utf-8')).hexdigest()\n",
        "  url_to_check = \"https://cloud.iexapis.com/v1/data/WORKSHOPFINANCE/USERDATA/\"+EmailHash+\"?&token=sk_29735f4ddf4a47efb27623b229dda54a\"\n",
        "  resp = requests.get(url_to_check).json()\n",
        "  if ( len(resp) == 0 ):\n",
        "    return \"User Does Not Exist\"  \n",
        "  DB_password = resp[0]['Password']  \n",
        "  PasswordHash = hashlib.sha256(password.encode('utf-8')).hexdigest()\n",
        "  if(DB_password == PasswordHash ):\n",
        "    return \"correct password\"\n",
        "  else:\n",
        "    return \"Incorrect Password\"  "
      ],
      "metadata": {
        "id": "uvhlg9Jjj65W"
      },
      "execution_count": null,
      "outputs": []
    },
    {
      "cell_type": "code",
      "source": [
        "email_lower = Email1.lower()\n",
        "EmailHash = hashlib.sha256(email_lower.encode('utf-8')).hexdigest()\n",
        "url_to_check = \"https://cloud.iexapis.com/v1/data/WORKSHOPFINANCE/USERDATA/\"+EmailHash+\"?&token=sk_29735f4ddf4a47efb27623b229dda54a\"\n",
        "resp = requests.get(url_to_check).json()\n",
        "resp[0]['Password'] "
      ],
      "metadata": {
        "colab": {
          "base_uri": "https://localhost:8080/"
        },
        "id": "Ser5-PFloxPo",
        "outputId": "05c20c88-b7ea-4176-d66f-cba148554d4a"
      },
      "execution_count": null,
      "outputs": [
        {
          "output_type": "execute_result",
          "data": {
            "text/plain": [
              "[{'Email': 'sanjaybhatia@gmail.com',\n",
              "  'FirstName': 'Sanjay',\n",
              "  'LastName': 'Bhatia',\n",
              "  'Password': '5eea5ab99f539cf867c412a6e41b07077e07e1b9fdf2bed534155f00d681eb6c',\n",
              "  'UserID': 'd87bcf00a2af411a3c3adef11f42adfc0bbc46f5c85ae9ec661d43adc348dccd'}]"
            ]
          },
          "metadata": {},
          "execution_count": 66
        }
      ]
    },
    {
      "cell_type": "code",
      "source": [
        "SignIn(Email1,password)"
      ],
      "metadata": {
        "colab": {
          "base_uri": "https://localhost:8080/",
          "height": 53
        },
        "id": "zW1TSPKDoRsM",
        "outputId": "3a388af3-4c1a-454e-b37e-7ef72aafc7c8"
      },
      "execution_count": null,
      "outputs": [
        {
          "output_type": "stream",
          "name": "stdout",
          "text": [
            "User was found\n"
          ]
        },
        {
          "output_type": "execute_result",
          "data": {
            "text/plain": [
              "'correct password'"
            ],
            "application/vnd.google.colaboratory.intrinsic+json": {
              "type": "string"
            }
          },
          "metadata": {},
          "execution_count": 68
        }
      ]
    }
  ]
}