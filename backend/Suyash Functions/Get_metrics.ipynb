{
  "nbformat": 4,
  "nbformat_minor": 0,
  "metadata": {
    "colab": {
      "provenance": []
    },
    "kernelspec": {
      "name": "python3",
      "display_name": "Python 3"
    },
    "language_info": {
      "name": "python"
    }
  },
  "cells": [
    {
      "cell_type": "code",
      "execution_count": null,
      "metadata": {
        "id": "V52DSSQTHg9T"
      },
      "outputs": [],
      "source": [
        "import pprint\n",
        "from datetime import datetime\n",
        "import requests\n",
        "import json\n",
        "import pandas as pd\n",
        "import numpy as np\n",
        "# add exception handling"
      ]
    },
    {
      "cell_type": "code",
      "source": [
        "from datetime import date, timedelta\n",
        "\n",
        "start_dt = date(2022, 6, 10)\n",
        "end_dt = date(2022, 9, 15)\n",
        "\n",
        "# difference between current and previous date\n",
        "delta = timedelta(days=1)\n",
        "\n",
        "# store the dates between two dates in a list\n",
        "dates = []\n",
        "\n",
        "while start_dt <= end_dt:\n",
        "    # add current date to list by converting  it to iso format\n",
        "    dates.append(start_dt)\n",
        "    # increment start date by timedelta\n",
        "    start_dt += delta\n",
        "\n",
        "print(dates)"
      ],
      "metadata": {
        "colab": {
          "base_uri": "https://localhost:8080/"
        },
        "id": "eQhSQjNQfyXE",
        "outputId": "5502864b-8f7a-4af0-815b-e30f38a0037a"
      },
      "execution_count": null,
      "outputs": [
        {
          "output_type": "stream",
          "name": "stdout",
          "text": [
            "[datetime.date(2022, 6, 10), datetime.date(2022, 6, 11), datetime.date(2022, 6, 12), datetime.date(2022, 6, 13), datetime.date(2022, 6, 14), datetime.date(2022, 6, 15), datetime.date(2022, 6, 16), datetime.date(2022, 6, 17), datetime.date(2022, 6, 18), datetime.date(2022, 6, 19), datetime.date(2022, 6, 20), datetime.date(2022, 6, 21), datetime.date(2022, 6, 22), datetime.date(2022, 6, 23), datetime.date(2022, 6, 24), datetime.date(2022, 6, 25), datetime.date(2022, 6, 26), datetime.date(2022, 6, 27), datetime.date(2022, 6, 28), datetime.date(2022, 6, 29), datetime.date(2022, 6, 30), datetime.date(2022, 7, 1), datetime.date(2022, 7, 2), datetime.date(2022, 7, 3), datetime.date(2022, 7, 4), datetime.date(2022, 7, 5), datetime.date(2022, 7, 6), datetime.date(2022, 7, 7), datetime.date(2022, 7, 8), datetime.date(2022, 7, 9), datetime.date(2022, 7, 10), datetime.date(2022, 7, 11), datetime.date(2022, 7, 12), datetime.date(2022, 7, 13), datetime.date(2022, 7, 14), datetime.date(2022, 7, 15), datetime.date(2022, 7, 16), datetime.date(2022, 7, 17), datetime.date(2022, 7, 18), datetime.date(2022, 7, 19), datetime.date(2022, 7, 20), datetime.date(2022, 7, 21), datetime.date(2022, 7, 22), datetime.date(2022, 7, 23), datetime.date(2022, 7, 24), datetime.date(2022, 7, 25), datetime.date(2022, 7, 26), datetime.date(2022, 7, 27), datetime.date(2022, 7, 28), datetime.date(2022, 7, 29), datetime.date(2022, 7, 30), datetime.date(2022, 7, 31), datetime.date(2022, 8, 1), datetime.date(2022, 8, 2), datetime.date(2022, 8, 3), datetime.date(2022, 8, 4), datetime.date(2022, 8, 5), datetime.date(2022, 8, 6), datetime.date(2022, 8, 7), datetime.date(2022, 8, 8), datetime.date(2022, 8, 9), datetime.date(2022, 8, 10), datetime.date(2022, 8, 11), datetime.date(2022, 8, 12), datetime.date(2022, 8, 13), datetime.date(2022, 8, 14), datetime.date(2022, 8, 15), datetime.date(2022, 8, 16), datetime.date(2022, 8, 17), datetime.date(2022, 8, 18), datetime.date(2022, 8, 19), datetime.date(2022, 8, 20), datetime.date(2022, 8, 21), datetime.date(2022, 8, 22), datetime.date(2022, 8, 23), datetime.date(2022, 8, 24), datetime.date(2022, 8, 25), datetime.date(2022, 8, 26), datetime.date(2022, 8, 27), datetime.date(2022, 8, 28), datetime.date(2022, 8, 29), datetime.date(2022, 8, 30), datetime.date(2022, 8, 31), datetime.date(2022, 9, 1), datetime.date(2022, 9, 2), datetime.date(2022, 9, 3), datetime.date(2022, 9, 4), datetime.date(2022, 9, 5), datetime.date(2022, 9, 6), datetime.date(2022, 9, 7), datetime.date(2022, 9, 8), datetime.date(2022, 9, 9), datetime.date(2022, 9, 10), datetime.date(2022, 9, 11), datetime.date(2022, 9, 12), datetime.date(2022, 9, 13), datetime.date(2022, 9, 14), datetime.date(2022, 9, 15)]\n"
          ]
        }
      ]
    },
    {
      "cell_type": "code",
      "source": [
        "def get_nearest_data(input_date, dates_list):\n",
        "  cloz_dict = {\n",
        "  abs(input_date.timestamp() - date.timestamp()) : date\n",
        "  for date in dates_list}\n",
        "  res = cloz_dict[min(cloz_dict.keys())]\n",
        "  if(res>input_date):\n",
        "    res = dates_list.index(res)+1\n",
        "  else:\n",
        "    res = dates_list.index(res)\n",
        "  return res    "
      ],
      "metadata": {
        "id": "CAADSsz0ND9y"
      },
      "execution_count": null,
      "outputs": []
    },
    {
      "cell_type": "code",
      "source": [
        "# input date should be in any form. Make sure to correctly enter the values here \n",
        "def get_metrics(year1, month1, date1): # input should be date and ticker symbol\n",
        "  input_date = datetime(year1, month1, date1) # (2023, 1, 21)\n",
        "  url = \"https://api-v2.intrinio.com/companies/GOOGL/filings?report_type=10-K,10-Q&api_key=OjAwYjk1OWYxZGEzYWQ2Y2VjN2YyMWExY2RkMTM2Y2Uz\"\n",
        "  ADVANCED_STATS = requests.get(url)\n",
        "  op = ADVANCED_STATS.json()\n",
        "  test_list = op['filings'] \n",
        "  res = [ sub['filing_date'] for sub in test_list ]\n",
        "  dates_list = [datetime.strptime(date, '%Y-%m-%d') for date in res]\n",
        "  item_of_use = get_nearest_data(input_date, dates_list)\n",
        "  filing_code = op['filings'][item_of_use]['id']\n",
        "  url2 = \"https://api-v2.intrinio.com/filings/\" + filing_code + \"/fundamentals?api_key=OjAwYjk1OWYxZGEzYWQ2Y2VjN2YyMWExY2RkMTM2Y2Uz\"\n",
        "  filin = requests.get(url2)\n",
        "  op2 = filin.json()\n",
        "  # add exception handling\n",
        "  # fix this. I cannot assume this.\n",
        "  #pprint.pprint(len(op2['fundamentals']))\n",
        "  income_statement_index = -1\n",
        "  balance_sheet_index = -1\n",
        "  cash_flow_index = -1\n",
        "  for i in range(len(op2['fundamentals'])): \n",
        "    temp = op2['fundamentals'][i]\n",
        "    # print(temp['statement_code']==\"income_statement\", temp['statement_code']==\"balance_sheet_statement\", temp['statement_code']==\"cash_flow_statement\")\n",
        "    if(temp['statement_code']=='income_statement')and(income_statement_index == -1):\n",
        "      income_statement_index = i\n",
        "    if(temp['statement_code']=='cash_flow_statement')and(cash_flow_index == -1):\n",
        "      cash_flow_index = i \n",
        "    if(temp['statement_code']=='balance_sheet_statement')and(balance_sheet_index == -1):\n",
        "      balance_sheet_index = i\n",
        "  #print(income_statement_index, balance_sheet_index, cash_flow_index)    \n",
        "  list_of_statements = [op2['fundamentals'][income_statement_index]['id'], op2['fundamentals'][balance_sheet_index]['id'], op2['fundamentals'][cash_flow_index]['id']]\n",
        "  tags = []\n",
        "  value = []\n",
        "  ops = []\n",
        "  for i in list_of_statements:\n",
        "    url3 = \"https://api-v2.intrinio.com/fundamentals/\" + i + \"/standardized_financials?api_key=OjAwYjk1OWYxZGEzYWQ2Y2VjN2YyMWExY2RkMTM2Y2Uz\"\n",
        "    filin = requests.get(url3)\n",
        "    op3 = filin.json()\n",
        "    ops.append(op3)\n",
        "    l = len(op3['standardized_financials'])\n",
        "    for j in range(l): \n",
        "      temp = op3['standardized_financials'][j]['data_tag'] # these are sets of 3. But i need to visit each one of them and extract\n",
        "      temp2 = op3['standardized_financials'][j]['value']\n",
        "      tags.append(temp['tag'])\n",
        "      value.append(temp2)\n",
        "   #create df \n",
        "  return pd.DataFrame([value], columns = tags), ops"
      ],
      "metadata": {
        "id": "ocUPt6QtIm5H"
      },
      "execution_count": null,
      "outputs": []
    },
    {
      "cell_type": "code",
      "source": [],
      "metadata": {
        "id": "JSSFbvK4zLWi"
      },
      "execution_count": null,
      "outputs": []
    },
    {
      "cell_type": "code",
      "source": [
        "df = get_metrics(2023, 1, 21)\n",
        "\n",
        "# once i have op I need to check if all these statements are available. Only then can I call for them."
      ],
      "metadata": {
        "id": "zbjGldYeNojf"
      },
      "execution_count": null,
      "outputs": []
    },
    {
      "cell_type": "code",
      "source": [
        "df['weightedavedilutedsharesos'].values[0]"
      ],
      "metadata": {
        "colab": {
          "base_uri": "https://localhost:8080/"
        },
        "id": "00i3ZfFcvBQq",
        "outputId": "32e8c9fa-e615-4a83-f318-66c67792d9ff"
      },
      "execution_count": null,
      "outputs": [
        {
          "output_type": "execute_result",
          "data": {
            "text/plain": [
              "16325819000.0"
            ]
          },
          "metadata": {},
          "execution_count": 66
        }
      ]
    },
    {
      "cell_type": "code",
      "source": [
        "from tabulate import tabulate\n",
        "print(tabulate(df, headers = 'keys', tablefmt = 'psql'))"
      ],
      "metadata": {
        "colab": {
          "base_uri": "https://localhost:8080/"
        },
        "id": "f51sBWLIIM76",
        "outputId": "34b91c5c-fa75-4132-add9-c657b97ec6f2"
      },
      "execution_count": null,
      "outputs": [
        {
          "output_type": "stream",
          "name": "stdout",
          "text": [
            "+----+--------------------+----------------+--------------------------+----------------------+--------------------+--------------+-------------+--------------------------+------------------------+---------------+--------------------+---------------------+--------------------+-----------------------+-------------+---------------------+----------------------------+------------+------------------------------+--------------+-----------------------------------+-------------------------+----------------------+------------------------+------------------+----------------------+----------------+----------------------+----------------------+------------+-----------------------+-------------------------+-------------------------+---------------+-----------------+-------------------+--------------------------+---------------------------+---------------------------+----------------+------------------------------+------------------------------+--------------------+-------------------------------+----------------+--------------------+-------------+---------------------+---------------+-----------------------------------------+-----------------------------+-------------+-----------------------+-----------------------+---------------------------------+--------------------------------------+--------------------------------------------+----------------------------------+---------------------------------------+----------------+-------------------------+---------------------+-------------------------------+--------------------------------------------+----------------------------------+-------------------+----------------------------+----------------------+------------------+-------------------------------+--------------------------------------------+----------------------------------+-------------------+--------------------+-----------------------+\n",
            "|    |   operatingrevenue |   totalrevenue |   operatingcostofrevenue |   totalcostofrevenue |   totalgrossprofit |   sgaexpense |   rdexpense |   totaloperatingexpenses |   totaloperatingincome |   otherincome |   totalotherincome |   totalpretaxincome |   incometaxexpense |   netincomecontinuing |   netincome |   netincometocommon |   weightedavebasicsharesos |   basiceps |   weightedavedilutedsharesos |   dilutedeps |   weightedavebasicdilutedsharesos |   cashdividendspershare |   cashandequivalents |   shortterminvestments |   notereceivable |   accountsreceivable |   netinventory |   othercurrentassets |   totalcurrentassets |     netppe |   longterminvestments |   othernoncurrentassets |   totalnoncurrentassets |   totalassets |   shorttermdebt |   accountspayable |   currentdeferredrevenue |   othercurrentliabilities |   totalcurrentliabilities |   longtermdebt |   othernoncurrentliabilities |   totalnoncurrentliabilities |   totalliabilities |   commitmentsandcontingencies |   commonequity |   retainedearnings |        aoci |   totalcommonequity |   totalequity |   totalequityandnoncontrollinginterests |   totalliabilitiesandequity |   netincome |   netincomecontinuing |   depreciationexpense |   noncashadjustmentstonetincome |   increasedecreaseinoperatingcapital |   netcashfromcontinuingoperatingactivities |   netcashfromoperatingactivities |   purchaseofplantpropertyandequipment |   acquisitions |   purchaseofinvestments |   saleofinvestments |   otherinvestingactivitiesnet |   netcashfromcontinuinginvestingactivities |   netcashfrominvestingactivities |   repaymentofdebt |   repurchaseofcommonequity |   paymentofdividends |   issuanceofdebt |   otherfinancingactivitiesnet |   netcashfromcontinuingfinancingactivities |   netcashfromfinancingactivities |   netchangeincash |   cashinterestpaid |   cashincometaxespaid |\n",
            "|----+--------------------+----------------+--------------------------+----------------------+--------------------+--------------+-------------+--------------------------+------------------------+---------------+--------------------+---------------------+--------------------+-----------------------+-------------+---------------------+----------------------------+------------+------------------------------+--------------+-----------------------------------+-------------------------+----------------------+------------------------+------------------+----------------------+----------------+----------------------+----------------------+------------+-----------------------+-------------------------+-------------------------+---------------+-----------------+-------------------+--------------------------+---------------------------+---------------------------+----------------+------------------------------+------------------------------+--------------------+-------------------------------+----------------+--------------------+-------------+---------------------+---------------+-----------------------------------------+-----------------------------+-------------+-----------------------+-----------------------+---------------------------------+--------------------------------------+--------------------------------------------+----------------------------------+---------------------------------------+----------------+-------------------------+---------------------+-------------------------------+--------------------------------------------+----------------------------------+-------------------+----------------------------+----------------------+------------------+-------------------------------+--------------------------------------------+----------------------------------+-------------------+--------------------+-----------------------|\n",
            "|  0 |        3.94328e+11 |    3.94328e+11 |              2.23546e+11 |          2.23546e+11 |        1.70782e+11 |   2.5094e+10 |  2.6251e+10 |               5.1345e+10 |            1.19437e+11 |     -3.34e+08 |          -3.34e+08 |         1.19103e+11 |           1.93e+10 |            9.9803e+10 |  9.9803e+10 |          9.9803e+10 |                 1.6216e+10 |       6.15 |                  1.63258e+10 |         6.11 |                       1.59081e+10 |                     0.9 |           2.3646e+10 |             2.4658e+10 |       3.2748e+10 |           2.8184e+10 |      4.946e+09 |           2.1223e+10 |          1.35405e+11 | 4.2117e+10 |           1.20805e+11 |              5.4428e+10 |             1.75233e+11 |   3.52755e+11 |       2.111e+10 |        6.4115e+10 |                7.912e+09 |                6.0845e+10 |               1.53982e+11 |     9.8959e+10 |                   4.9142e+10 |                  1.48101e+11 |        3.02083e+11 |                             0 |     6.4849e+10 |         -3.068e+09 | -1.1109e+10 |          5.0672e+10 |    5.0672e+10 |                              5.0672e+10 |                 3.52755e+11 |  9.9803e+10 |            9.9803e+10 |            1.1104e+10 |                       9.149e+09 |                            2.095e+09 |                                1.22151e+11 |                      1.22151e+11 |                           -1.0708e+10 |      -3.06e+08 |             -7.6923e+10 |          6.7363e+10 |                     -1.78e+09 |                                -2.2354e+10 |                      -2.2354e+10 |        -5.748e+09 |                -8.9402e+10 |          -1.4841e+10 |        5.465e+09 |                    -6.223e+09 |                               -1.10749e+11 |                     -1.10749e+11 |       -1.0952e+10 |          2.865e+09 |            1.9573e+10 |\n",
            "+----+--------------------+----------------+--------------------------+----------------------+--------------------+--------------+-------------+--------------------------+------------------------+---------------+--------------------+---------------------+--------------------+-----------------------+-------------+---------------------+----------------------------+------------+------------------------------+--------------+-----------------------------------+-------------------------+----------------------+------------------------+------------------+----------------------+----------------+----------------------+----------------------+------------+-----------------------+-------------------------+-------------------------+---------------+-----------------+-------------------+--------------------------+---------------------------+---------------------------+----------------+------------------------------+------------------------------+--------------------+-------------------------------+----------------+--------------------+-------------+---------------------+---------------+-----------------------------------------+-----------------------------+-------------+-----------------------+-----------------------+---------------------------------+--------------------------------------+--------------------------------------------+----------------------------------+---------------------------------------+----------------+-------------------------+---------------------+-------------------------------+--------------------------------------------+----------------------------------+-------------------+----------------------------+----------------------+------------------+-------------------------------+--------------------------------------------+----------------------------------+-------------------+--------------------+-----------------------+\n"
          ]
        }
      ]
    },
    {
      "cell_type": "code",
      "source": [
        "df.to_csv('out.zip', index=False) "
      ],
      "metadata": {
        "id": "E95Su3-a98gG"
      },
      "execution_count": null,
      "outputs": []
    },
    {
      "cell_type": "code",
      "source": [
        "# netdebt = shorttermdebt + longtermdebt + capitalleaseobligations - cash - restrictedcash - fedfundssold - interestbearingdepositsatotherbanks - timedepositsplaced \n",
        "# where totaldebt is debt = shorttermdebt+longtermdebt+capitalleaseobligations"
      ],
      "metadata": {
        "id": "QLQJgiyWZ8Vf"
      },
      "execution_count": null,
      "outputs": []
    },
    {
      "cell_type": "code",
      "source": [
        "def get_price_on_a_date(date, ticker_symbol):\n",
        "  url = \"https://cloud.iexapis.com/v1/data/CORE/HISTORICAL_PRICES/\"+ticker_symbol+\"?on=\"+date+\"&token=sk_29735f4ddf4a47efb27623b229dda54a\"\n",
        "  HISTORICAL_PRICES = requests.get(url)\n",
        "  op = HISTORICAL_PRICES.json()\n",
        "  if len(op)!=0: # check to make sure we are not using a date when market was closed. \n",
        "  # Switch it with catch exception in function \n",
        "    close_price = op[0][\"close\"]\n",
        "    return close_price\n",
        "  else: \n",
        "    return 0\n",
        "  return 0"
      ],
      "metadata": {
        "id": "l2uncVaufb9r"
      },
      "execution_count": null,
      "outputs": []
    },
    {
      "cell_type": "code",
      "source": [
        "# get_price_on_a_date(\"2023-01-19\", \"AAPL\")\n",
        "import time\n",
        "prices = []\n",
        "#dates = dates[-30:]\n",
        "for i in range(len(dates)):\n",
        "  time.sleep(2)\n",
        "  prices.append(get_price_on_a_date(dates[i], \"AAPL\"))\n"
      ],
      "metadata": {
        "id": "0URfT5umk3pD"
      },
      "execution_count": null,
      "outputs": []
    },
    {
      "cell_type": "code",
      "source": [
        "# write code to to run throgh dates. \n",
        "# each df I get take sos and take net debt and put it into the df with recpective date. \n",
        "# Then iterate to next date. \n",
        "sos = []\n",
        "nd = []\n",
        "for i in dates:\n",
        "  yr = i.year\n",
        "  mon = i.month\n",
        "  dt = i.day\n",
        "  df_temp = get_metrics(yr, mon, dt)\n",
        "  \n",
        "  "
      ],
      "metadata": {
        "id": "fP7a1Yzpwj6P"
      },
      "execution_count": null,
      "outputs": []
    },
    {
      "cell_type": "code",
      "source": [
        "df, op = get_metrics(2023, 1, 21)"
      ],
      "metadata": {
        "id": "BQ4zYklyzMPC"
      },
      "execution_count": null,
      "outputs": []
    },
    {
      "cell_type": "code",
      "source": [
        "df['shorttermdebt'].values[0]"
      ],
      "metadata": {
        "colab": {
          "base_uri": "https://localhost:8080/"
        },
        "id": "y8CMdQet8-Oj",
        "outputId": "1b3d0f9b-0b06-43ad-ad52-d2b59f3d65fc"
      },
      "execution_count": null,
      "outputs": [
        {
          "output_type": "execute_result",
          "data": {
            "text/plain": [
              "21110000000.0"
            ]
          },
          "metadata": {},
          "execution_count": 104
        }
      ]
    },
    {
      "cell_type": "code",
      "source": [
        "# type(datetime(dates[0]))\n",
        "# debt = shorttermdebt+longtermdebt+capitalleaseobligations\n",
        "debt = df['shorttermdebt'].values[0]+ df['longtermdebt'].values[0] + df['capitalleaseobligations'].values[0] # if clo is not given consider is 0"
      ],
      "metadata": {
        "id": "M3WrxtwXzTbd"
      },
      "execution_count": null,
      "outputs": []
    },
    {
      "cell_type": "code",
      "source": [
        "pprint.pprint(op[1])"
      ],
      "metadata": {
        "colab": {
          "base_uri": "https://localhost:8080/"
        },
        "id": "Wfd7hxa2_jjP",
        "outputId": "9d5bcc79-446f-4ea5-9237-4605f6b4278c"
      },
      "execution_count": null,
      "outputs": [
        {
          "output_type": "stream",
          "name": "stdout",
          "text": [
            "{'fundamental': {'company': {'cik': '0001652044',\n",
            "                             'id': 'com_dXOWOX',\n",
            "                             'lei': None,\n",
            "                             'name': 'Alphabet Inc',\n",
            "                             'ticker': 'GOOGL'},\n",
            "                 'end_date': '2022-09-30',\n",
            "                 'filing_date': '2022-10-26T01:32:59.000Z',\n",
            "                 'fiscal_period': 'Q3',\n",
            "                 'fiscal_year': 2022,\n",
            "                 'id': 'fun_B76rxA',\n",
            "                 'is_latest': True,\n",
            "                 'start_date': None,\n",
            "                 'statement_code': 'balance_sheet_statement',\n",
            "                 'type': 'reported',\n",
            "                 'updated_date': '2023-03-20T04:04:24.132Z'},\n",
            " 'standardized_financials': [{'data_tag': {'balance': 'debit',\n",
            "                                           'factor': '+',\n",
            "                                           'id': 'tag_NX6GGz',\n",
            "                                           'name': 'Cash & Equivalents',\n",
            "                                           'parent': 'totalcurrentassets',\n",
            "                                           'sequence': 1,\n",
            "                                           'tag': 'cashandequivalents',\n",
            "                                           'unit': 'usd'},\n",
            "                              'value': 21984000000.0},\n",
            "                             {'data_tag': {'balance': 'debit',\n",
            "                                           'factor': '+',\n",
            "                                           'id': 'tag_0XLJDy',\n",
            "                                           'name': 'Short-Term Investments',\n",
            "                                           'parent': 'totalcurrentassets',\n",
            "                                           'sequence': 3,\n",
            "                                           'tag': 'shortterminvestments',\n",
            "                                           'unit': 'usd'},\n",
            "                              'value': 94275000000.0},\n",
            "                             {'data_tag': {'balance': 'debit',\n",
            "                                           'factor': '+',\n",
            "                                           'id': 'tag_NgYnGX',\n",
            "                                           'name': 'Accounts Receivable',\n",
            "                                           'parent': 'totalcurrentassets',\n",
            "                                           'sequence': 5,\n",
            "                                           'tag': 'accountsreceivable',\n",
            "                                           'unit': 'usd'},\n",
            "                              'value': 34697000000.0},\n",
            "                             {'data_tag': {'balance': 'debit',\n",
            "                                           'factor': '+',\n",
            "                                           'id': 'tag_NgPQvX',\n",
            "                                           'name': 'Inventories, net',\n",
            "                                           'parent': 'totalcurrentassets',\n",
            "                                           'sequence': 6,\n",
            "                                           'tag': 'netinventory',\n",
            "                                           'unit': 'usd'},\n",
            "                              'value': 3156000000.0},\n",
            "                             {'data_tag': {'balance': 'debit',\n",
            "                                           'factor': '+',\n",
            "                                           'id': 'tag_0gNw2X',\n",
            "                                           'name': 'Current Deferred & '\n",
            "                                                   'Refundable Income Taxes',\n",
            "                                           'parent': 'totalcurrentassets',\n",
            "                                           'sequence': 8,\n",
            "                                           'tag': 'currentdeferredtaxassets',\n",
            "                                           'unit': 'usd'},\n",
            "                              'value': 1479000000.0},\n",
            "                             {'data_tag': {'balance': 'debit',\n",
            "                                           'factor': '+',\n",
            "                                           'id': 'tag_dXOrKg',\n",
            "                                           'name': 'Other Current Assets',\n",
            "                                           'parent': 'totalcurrentassets',\n",
            "                                           'sequence': 9,\n",
            "                                           'tag': 'othercurrentassets',\n",
            "                                           'unit': 'usd'},\n",
            "                              'value': 10518000000.0},\n",
            "                             {'data_tag': {'balance': 'debit',\n",
            "                                           'factor': '+',\n",
            "                                           'id': 'tag_nzJbNz',\n",
            "                                           'name': 'Total Current Assets',\n",
            "                                           'parent': 'totalassets',\n",
            "                                           'sequence': 11,\n",
            "                                           'tag': 'totalcurrentassets',\n",
            "                                           'unit': 'usd'},\n",
            "                              'value': 166109000000.0},\n",
            "                             {'data_tag': {'balance': 'debit',\n",
            "                                           'factor': '+',\n",
            "                                           'id': 'tag_bzqRpy',\n",
            "                                           'name': 'Plant, Property & '\n",
            "                                                   'Equipment, gross',\n",
            "                                           'parent': 'netppe',\n",
            "                                           'sequence': 12,\n",
            "                                           'tag': 'grossppe',\n",
            "                                           'unit': 'usd'},\n",
            "                              'value': 108363000000.0},\n",
            "                             {'data_tag': {'balance': 'debit',\n",
            "                                           'factor': '+',\n",
            "                                           'id': 'tag_PypRZX',\n",
            "                                           'name': 'Plant, Property, & '\n",
            "                                                   'Equipment, net',\n",
            "                                           'parent': 'totalassets',\n",
            "                                           'sequence': 14,\n",
            "                                           'tag': 'netppe',\n",
            "                                           'unit': 'usd'},\n",
            "                              'value': 108363000000.0},\n",
            "                             {'data_tag': {'balance': 'debit',\n",
            "                                           'factor': '+',\n",
            "                                           'id': 'tag_xgxYWX',\n",
            "                                           'name': 'Long-Term Investments',\n",
            "                                           'parent': 'totalnoncurrentassets',\n",
            "                                           'sequence': 15,\n",
            "                                           'tag': 'longterminvestments',\n",
            "                                           'unit': 'usd'},\n",
            "                              'value': 30419000000.0},\n",
            "                             {'data_tag': {'balance': 'debit',\n",
            "                                           'factor': '+',\n",
            "                                           'id': 'tag_BgkpOX',\n",
            "                                           'name': 'Goodwill',\n",
            "                                           'parent': 'totalnoncurrentassets',\n",
            "                                           'sequence': 17,\n",
            "                                           'tag': 'goodwill',\n",
            "                                           'unit': 'usd'},\n",
            "                              'value': 28834000000.0},\n",
            "                             {'data_tag': {'balance': 'debit',\n",
            "                                           'factor': '+',\n",
            "                                           'id': 'tag_agjvrg',\n",
            "                                           'name': 'Intangible Assets',\n",
            "                                           'parent': 'totalnoncurrentassets',\n",
            "                                           'sequence': 18,\n",
            "                                           'tag': 'intangibleassets',\n",
            "                                           'unit': 'usd'},\n",
            "                              'value': 2192000000.0},\n",
            "                             {'data_tag': {'balance': 'debit',\n",
            "                                           'factor': '+',\n",
            "                                           'id': 'tag_ByKb6z',\n",
            "                                           'name': 'Noncurrent Deferred & '\n",
            "                                                   'Refundable Income Taxes',\n",
            "                                           'parent': 'totalnoncurrentassets',\n",
            "                                           'sequence': 19,\n",
            "                                           'tag': 'noncurrentdeferredtaxassets',\n",
            "                                           'unit': 'usd'},\n",
            "                              'value': 2991000000.0},\n",
            "                             {'data_tag': {'balance': 'debit',\n",
            "                                           'factor': '+',\n",
            "                                           'id': 'tag_kylwdz',\n",
            "                                           'name': 'Other Noncurrent Operating '\n",
            "                                                   'Assets',\n",
            "                                           'parent': 'totalnoncurrentassets',\n",
            "                                           'sequence': 21,\n",
            "                                           'tag': 'othernoncurrentassets',\n",
            "                                           'unit': 'usd'},\n",
            "                              'value': 19347000000.0},\n",
            "                             {'data_tag': {'balance': 'debit',\n",
            "                                           'factor': '+',\n",
            "                                           'id': 'tag_jyRvly',\n",
            "                                           'name': 'Total Noncurrent Assets',\n",
            "                                           'parent': 'totalassets',\n",
            "                                           'sequence': 23,\n",
            "                                           'tag': 'totalnoncurrentassets',\n",
            "                                           'unit': 'usd'},\n",
            "                              'value': 83783000000.0},\n",
            "                             {'data_tag': {'balance': 'debit',\n",
            "                                           'factor': '=',\n",
            "                                           'id': 'tag_0gN8qz',\n",
            "                                           'name': 'Total Assets',\n",
            "                                           'parent': None,\n",
            "                                           'sequence': 25,\n",
            "                                           'tag': 'totalassets',\n",
            "                                           'unit': 'usd'},\n",
            "                              'value': 358255000000.0},\n",
            "                             {'data_tag': {'balance': 'credit',\n",
            "                                           'factor': '+',\n",
            "                                           'id': 'tag_ByKkvy',\n",
            "                                           'name': 'Accounts Payable',\n",
            "                                           'parent': 'totalcurrentliabilities',\n",
            "                                           'sequence': 27,\n",
            "                                           'tag': 'accountspayable',\n",
            "                                           'unit': 'usd'},\n",
            "                              'value': 6303000000.0},\n",
            "                             {'data_tag': {'balance': 'credit',\n",
            "                                           'factor': '+',\n",
            "                                           'id': 'tag_mgwWYg',\n",
            "                                           'name': 'Accrued Expenses',\n",
            "                                           'parent': 'totalcurrentliabilities',\n",
            "                                           'sequence': 28,\n",
            "                                           'tag': 'accruedexpenses',\n",
            "                                           'unit': 'usd'},\n",
            "                              'value': 42700000000.0},\n",
            "                             {'data_tag': {'balance': 'credit',\n",
            "                                           'factor': '+',\n",
            "                                           'id': 'tag_RzmmPz',\n",
            "                                           'name': 'Current Deferred & Payable '\n",
            "                                                   'Income Tax Liabilities',\n",
            "                                           'parent': 'totalcurrentliabilities',\n",
            "                                           'sequence': 32,\n",
            "                                           'tag': 'currentdeferredtaxliabilities',\n",
            "                                           'unit': 'usd'},\n",
            "                              'value': 1025000000.0},\n",
            "                             {'data_tag': {'balance': 'credit',\n",
            "                                           'factor': '+',\n",
            "                                           'id': 'tag_2gBBRg',\n",
            "                                           'name': 'Current Employee Benefit '\n",
            "                                                   'Liabilities',\n",
            "                                           'parent': 'totalcurrentliabilities',\n",
            "                                           'sequence': 33,\n",
            "                                           'tag': 'currentemployeebenefitliabilities',\n",
            "                                           'unit': 'usd'},\n",
            "                              'value': 12366000000.0},\n",
            "                             {'data_tag': {'balance': 'credit',\n",
            "                                           'factor': '+',\n",
            "                                           'id': 'tag_Qz88bz',\n",
            "                                           'name': 'Other Current Liabilities',\n",
            "                                           'parent': 'totalcurrentliabilities',\n",
            "                                           'sequence': 35,\n",
            "                                           'tag': 'othercurrentliabilities',\n",
            "                                           'unit': 'usd'},\n",
            "                              'value': 3585000000.0},\n",
            "                             {'data_tag': {'balance': 'credit',\n",
            "                                           'factor': '+',\n",
            "                                           'id': 'tag_9Xal6g',\n",
            "                                           'name': 'Total Current Liabilities',\n",
            "                                           'parent': 'totalliabilities',\n",
            "                                           'sequence': 37,\n",
            "                                           'tag': 'totalcurrentliabilities',\n",
            "                                           'unit': 'usd'},\n",
            "                              'value': 65979000000.0},\n",
            "                             {'data_tag': {'balance': 'credit',\n",
            "                                           'factor': '+',\n",
            "                                           'id': 'tag_RzmqAz',\n",
            "                                           'name': 'Long-Term Debt',\n",
            "                                           'parent': 'totalnoncurrentliabilities',\n",
            "                                           'sequence': 38,\n",
            "                                           'tag': 'longtermdebt',\n",
            "                                           'unit': 'usd'},\n",
            "                              'value': 14653000000.0},\n",
            "                             {'data_tag': {'balance': 'credit',\n",
            "                                           'factor': '+',\n",
            "                                           'id': 'tag_2z9dGX',\n",
            "                                           'name': 'Noncurrent Deferred '\n",
            "                                                   'Revenue',\n",
            "                                           'parent': 'totalnoncurrentliabilities',\n",
            "                                           'sequence': 41,\n",
            "                                           'tag': 'noncurrentdeferredrevenue',\n",
            "                                           'unit': 'usd'},\n",
            "                              'value': 9166000000.0},\n",
            "                             {'data_tag': {'balance': 'credit',\n",
            "                                           'factor': '+',\n",
            "                                           'id': 'tag_Dg2OZX',\n",
            "                                           'name': 'Noncurrent Deferred & '\n",
            "                                                   'Payable Income Tax '\n",
            "                                                   'Liabilities',\n",
            "                                           'parent': 'totalnoncurrentliabilities',\n",
            "                                           'sequence': 42,\n",
            "                                           'tag': 'noncurrentdeferredtaxliabilities',\n",
            "                                           'unit': 'usd'},\n",
            "                              'value': 476000000.0},\n",
            "                             {'data_tag': {'balance': 'credit',\n",
            "                                           'factor': '+',\n",
            "                                           'id': 'tag_NXnlVy',\n",
            "                                           'name': 'Other Noncurrent Operating '\n",
            "                                                   'Liabilities',\n",
            "                                           'parent': 'totalnoncurrentliabilities',\n",
            "                                           'sequence': 44,\n",
            "                                           'tag': 'othernoncurrentliabilities',\n",
            "                                           'unit': 'usd'},\n",
            "                              'value': 14355000000.0},\n",
            "                             {'data_tag': {'balance': 'credit',\n",
            "                                           'factor': '+',\n",
            "                                           'id': 'tag_2z95lz',\n",
            "                                           'name': 'Total Noncurrent '\n",
            "                                                   'Liabilities',\n",
            "                                           'parent': 'totalliabilities',\n",
            "                                           'sequence': 46,\n",
            "                                           'tag': 'totalnoncurrentliabilities',\n",
            "                                           'unit': 'usd'},\n",
            "                              'value': 38650000000.0},\n",
            "                             {'data_tag': {'balance': 'credit',\n",
            "                                           'factor': '+',\n",
            "                                           'id': 'tag_Dg25ey',\n",
            "                                           'name': 'Total Liabilities',\n",
            "                                           'parent': 'totalliabilitiesandequity',\n",
            "                                           'sequence': 47,\n",
            "                                           'tag': 'totalliabilities',\n",
            "                                           'unit': 'usd'},\n",
            "                              'value': 104629000000.0},\n",
            "                             {'data_tag': {'balance': 'credit',\n",
            "                                           'factor': '+',\n",
            "                                           'id': 'tag_EgAa5g',\n",
            "                                           'name': 'Commitments & '\n",
            "                                                   'Contingencies',\n",
            "                                           'parent': 'totalliabilitiesandequity',\n",
            "                                           'sequence': 48,\n",
            "                                           'tag': 'commitmentsandcontingencies',\n",
            "                                           'unit': 'usd'},\n",
            "                              'value': 0.0},\n",
            "                             {'data_tag': {'balance': 'credit',\n",
            "                                           'factor': '+',\n",
            "                                           'id': 'tag_ozMedz',\n",
            "                                           'name': 'Preferred Stock',\n",
            "                                           'parent': 'totalequity',\n",
            "                                           'sequence': 50,\n",
            "                                           'tag': 'totalpreferredequity',\n",
            "                                           'unit': 'usd'},\n",
            "                              'value': 0.0},\n",
            "                             {'data_tag': {'balance': 'credit',\n",
            "                                           'factor': '+',\n",
            "                                           'id': 'tag_5X7KNX',\n",
            "                                           'name': 'Common Stock',\n",
            "                                           'parent': 'totalcommonequity',\n",
            "                                           'sequence': 51,\n",
            "                                           'tag': 'commonequity',\n",
            "                                           'unit': 'usd'},\n",
            "                              'value': 66258000000.0},\n",
            "                             {'data_tag': {'balance': 'credit',\n",
            "                                           'factor': '+',\n",
            "                                           'id': 'tag_qgeoNz',\n",
            "                                           'name': 'Retained Earnings',\n",
            "                                           'parent': 'totalcommonequity',\n",
            "                                           'sequence': 52,\n",
            "                                           'tag': 'retainedearnings',\n",
            "                                           'unit': 'usd'},\n",
            "                              'value': 196220000000.0},\n",
            "                             {'data_tag': {'balance': 'credit',\n",
            "                                           'factor': '+',\n",
            "                                           'id': 'tag_0ybW7g',\n",
            "                                           'name': 'Accumulated Other '\n",
            "                                                   'Comprehensive Income / '\n",
            "                                                   '(Loss)',\n",
            "                                           'parent': 'totalcommonequity',\n",
            "                                           'sequence': 54,\n",
            "                                           'tag': 'aoci',\n",
            "                                           'unit': 'usd'},\n",
            "                              'value': -8852000000.0},\n",
            "                             {'data_tag': {'balance': 'credit',\n",
            "                                           'factor': '+',\n",
            "                                           'id': 'tag_xgQ89y',\n",
            "                                           'name': 'Total Common Equity',\n",
            "                                           'parent': 'totalequity',\n",
            "                                           'sequence': 56,\n",
            "                                           'tag': 'totalcommonequity',\n",
            "                                           'unit': 'usd'},\n",
            "                              'value': 253626000000.0},\n",
            "                             {'data_tag': {'balance': 'credit',\n",
            "                                           'factor': '+',\n",
            "                                           'id': 'tag_rg03my',\n",
            "                                           'name': 'Total Preferred & Common '\n",
            "                                                   'Equity',\n",
            "                                           'parent': 'totalequityandnoncontrollinginterests',\n",
            "                                           'sequence': 57,\n",
            "                                           'tag': 'totalequity',\n",
            "                                           'unit': 'usd'},\n",
            "                              'value': 253626000000.0},\n",
            "                             {'data_tag': {'balance': 'credit',\n",
            "                                           'factor': '+',\n",
            "                                           'id': 'tag_pgVB6g',\n",
            "                                           'name': 'Total Equity & '\n",
            "                                                   'Noncontrolling Interests',\n",
            "                                           'parent': 'totalliabilitiesandequity',\n",
            "                                           'sequence': 59,\n",
            "                                           'tag': 'totalequityandnoncontrollinginterests',\n",
            "                                           'unit': 'usd'},\n",
            "                              'value': 253626000000.0},\n",
            "                             {'data_tag': {'balance': 'credit',\n",
            "                                           'factor': '=',\n",
            "                                           'id': 'tag_NX6QGg',\n",
            "                                           'name': 'Total Liabilities & '\n",
            "                                                   \"Shareholders' Equity\",\n",
            "                                           'parent': None,\n",
            "                                           'sequence': 60,\n",
            "                                           'tag': 'totalliabilitiesandequity',\n",
            "                                           'unit': 'usd'},\n",
            "                              'value': 358255000000.0}]}\n"
          ]
        }
      ]
    },
    {
      "cell_type": "code",
      "source": [
        "url3 = \"https://api-v2.intrinio.com/fundamentals/\" + \"tag_NX6GGz\" + \"/standardized_financials?api_key=OjAwYjk1OWYxZGEzYWQ2Y2VjN2YyMWExY2RkMTM2Y2Uz\"\n",
        "filin = requests.get(url3)\n",
        "op3 = filin.json()"
      ],
      "metadata": {
        "id": "5dFWTpX_ge01"
      },
      "execution_count": null,
      "outputs": []
    },
    {
      "cell_type": "code",
      "source": [
        "pprint.pprint(op3)"
      ],
      "metadata": {
        "colab": {
          "base_uri": "https://localhost:8080/"
        },
        "id": "dvRBQwQ1gpUB",
        "outputId": "42fbc0ff-a232-466a-c1b4-938cb347c057"
      },
      "execution_count": null,
      "outputs": [
        {
          "output_type": "stream",
          "name": "stdout",
          "text": [
            "{'error': 'Invalid fundamental identifier',\n",
            " 'message': 'An error occurred. Please contact success@intrinio.com with the '\n",
            "            'details.'}\n"
          ]
        }
      ]
    }
  ]
}